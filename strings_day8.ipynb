{
 "cells": [
  {
   "cell_type": "code",
   "execution_count": 1,
   "id": "9a131663",
   "metadata": {},
   "outputs": [],
   "source": [
    "s1 = ('''Python is a high-level, general-purpose programming language. \n",
    "Its design philosophy emphasizes code readability with the use of significant indentation via the off-side rule. \n",
    "Python is dynamically typed and garbage-collected''')\n"
   ]
  },
  {
   "cell_type": "code",
   "execution_count": 2,
   "id": "0978f4c7",
   "metadata": {},
   "outputs": [
    {
     "name": "stdout",
     "output_type": "stream",
     "text": [
      "P y t h o n\n"
     ]
    }
   ],
   "source": [
    "print(s1[0],s1[1],s1[2],s1[3],s1[4],s1[5])"
   ]
  },
  {
   "cell_type": "code",
   "execution_count": 3,
   "id": "5cfbf06d",
   "metadata": {},
   "outputs": [
    {
     "name": "stdout",
     "output_type": "stream",
     "text": [
      "226\n"
     ]
    }
   ],
   "source": [
    "print(len(s1))"
   ]
  },
  {
   "cell_type": "code",
   "execution_count": 4,
   "id": "582270c8",
   "metadata": {},
   "outputs": [
    {
     "name": "stdout",
     "output_type": "stream",
     "text": [
      "Pytho\n"
     ]
    }
   ],
   "source": [
    "print(s1[0:5])"
   ]
  },
  {
   "cell_type": "code",
   "execution_count": 8,
   "id": "c54f09f5",
   "metadata": {},
   "outputs": [
    {
     "name": "stdout",
     "output_type": "stream",
     "text": [
      "dleaaylash rs aon ii etta  seohis.ggappleehanP\n"
     ]
    }
   ],
   "source": [
    "print(s1[::-5])"
   ]
  },
  {
   "cell_type": "code",
   "execution_count": 11,
   "id": "a90404ff",
   "metadata": {},
   "outputs": [
    {
     "name": "stdout",
     "output_type": "stream",
     "text": [
      "\n"
     ]
    }
   ],
   "source": [
    "print(s1[0:10:-4])"
   ]
  },
  {
   "cell_type": "code",
   "execution_count": 14,
   "id": "5c3bc8c7",
   "metadata": {},
   "outputs": [
    {
     "name": "stdout",
     "output_type": "stream",
     "text": [
      "PYTHON IS A HIGH-LEVEL, GENERAL-PURPOSE PROGRAMMING LANGUAGE. \n",
      "ITS DESIGN PHILOSOPHY EMPHASIZES CODE READABILITY WITH THE USE OF SIGNIFICANT INDENTATION VIA THE OFF-SIDE RULE. \n",
      "PYTHON IS DYNAMICALLY TYPED AND GARBAGE-COLLECTED\n"
     ]
    }
   ],
   "source": [
    "print(s1.upper())"
   ]
  },
  {
   "cell_type": "code",
   "execution_count": 15,
   "id": "3094fc1f",
   "metadata": {},
   "outputs": [
    {
     "name": "stdout",
     "output_type": "stream",
     "text": [
      "python is a high-level, general-purpose programming language. \n",
      "its design philosophy emphasizes code readability with the use of significant indentation via the off-side rule. \n",
      "python is dynamically typed and garbage-collected\n"
     ]
    }
   ],
   "source": [
    "print(s1.lower())"
   ]
  },
  {
   "cell_type": "code",
   "execution_count": 16,
   "id": "3a07b992",
   "metadata": {},
   "outputs": [
    {
     "name": "stdout",
     "output_type": "stream",
     "text": [
      "pYTHON IS A HIGH-LEVEL, GENERAL-PURPOSE PROGRAMMING LANGUAGE. \n",
      "iTS DESIGN PHILOSOPHY EMPHASIZES CODE READABILITY WITH THE USE OF SIGNIFICANT INDENTATION VIA THE OFF-SIDE RULE. \n",
      "pYTHON IS DYNAMICALLY TYPED AND GARBAGE-COLLECTED\n"
     ]
    }
   ],
   "source": [
    "print(s1.swapcase())"
   ]
  },
  {
   "cell_type": "code",
   "execution_count": 17,
   "id": "2078554f",
   "metadata": {},
   "outputs": [
    {
     "name": "stdout",
     "output_type": "stream",
     "text": [
      "False True\n",
      "True False\n",
      "True\n"
     ]
    }
   ],
   "source": [
    "s2 = 'praveen'\n",
    "s3 = 'SRINIVASARAO'\n",
    "s4 = '9866896274'\n",
    "print(s2.isupper(), s2.islower())\n",
    "print(s3.isupper(), s3.islower())\n",
    "print(s4.isdigit())"
   ]
  },
  {
   "cell_type": "code",
   "execution_count": 28,
   "id": "eb9ce5e9",
   "metadata": {},
   "outputs": [
    {
     "name": "stdout",
     "output_type": "stream",
     "text": [
      "+919866896274 The above number is Indian number\n"
     ]
    }
   ],
   "source": [
    "p1 = '+919866896274'\n",
    "if p1[0] == '+':\n",
    "    if p1[1:3] == '91' and len(p1[3: ]) == 10 and p1[3] in '6789' and p1[3: ] .isdigit():\n",
    "        print(p1,\"The above number is Indian number\")\n",
    "    else :\n",
    "        print(p1,\"The above number is not Indian number\")\n",
    "elif len(p1) == 10 and p1[0] in '6789' and p1.isdigit():\n",
    "    print(p1,\"It is also a Indian number\")\n",
    "else :\n",
    "    print(p1, \"The above number is not a Indian number\")"
   ]
  },
  {
   "cell_type": "code",
   "execution_count": 30,
   "id": "ec82f4ad",
   "metadata": {},
   "outputs": [
    {
     "name": "stdout",
     "output_type": "stream",
     "text": [
      "True\n",
      "True\n"
     ]
    }
   ],
   "source": [
    "p2 = 'praveen_kumar'\n",
    "print(p2.startswith('pr'))\n",
    "print(p2.endswith('ar'))"
   ]
  },
  {
   "cell_type": "code",
   "execution_count": null,
   "id": "4678f0d1",
   "metadata": {},
   "outputs": [],
   "source": []
  }
 ],
 "metadata": {
  "kernelspec": {
   "display_name": "Python 3 (ipykernel)",
   "language": "python",
   "name": "python3"
  },
  "language_info": {
   "codemirror_mode": {
    "name": "ipython",
    "version": 3
   },
   "file_extension": ".py",
   "mimetype": "text/x-python",
   "name": "python",
   "nbconvert_exporter": "python",
   "pygments_lexer": "ipython3",
   "version": "3.10.9"
  }
 },
 "nbformat": 4,
 "nbformat_minor": 5
}
